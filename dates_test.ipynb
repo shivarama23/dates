{
 "cells": [
  {
   "cell_type": "code",
   "execution_count": 1,
   "metadata": {},
   "outputs": [],
   "source": [
    "import spacy"
   ]
  },
  {
   "cell_type": "code",
   "execution_count": 2,
   "metadata": {},
   "outputs": [],
   "source": [
    "nlp = spacy.load(\"en_core_web_sm\")"
   ]
  },
  {
   "cell_type": "code",
   "execution_count": 4,
   "metadata": {},
   "outputs": [],
   "source": [
    "date_label = ['DATE']\n",
    "\n",
    "def extract_dates(text):\n",
    "    doc = nlp(text)\n",
    "    results = [(ent.text, ent.label_) for ent in doc.ents if ent.label_ in date_label]\n",
    "    return results"
   ]
  },
  {
   "cell_type": "code",
   "execution_count": 8,
   "metadata": {},
   "outputs": [
    {
     "data": {
      "text/plain": [
       "[('202123012022', 'DATE')]"
      ]
     },
     "execution_count": 8,
     "metadata": {},
     "output_type": "execute_result"
    }
   ],
   "source": [
    "extract_dates(\"p-TMF Correspondence Inv SSV 202123012022\")"
   ]
  },
  {
   "cell_type": "code",
   "execution_count": 12,
   "metadata": {},
   "outputs": [],
   "source": [
    "from dateutil import parser\n",
    "from datetime import datetime\n",
    "\n",
    "def convert_dates(dates):\n",
    "    formatted_dates = []\n",
    "    for date in dates:\n",
    "        try:\n",
    "            if \"-\" in date:\n",
    "                start_date, end_date = date.split(\"-\")\n",
    "                formatted_start_date = parser.parse(start_date).strftime(\"%Y-%m-%d\")\n",
    "                formatted_end_date = parser.parse(end_date).strftime(\"%Y-%m-%d\")\n",
    "                dates_range = [formatted_start_date, formatted_end_date]\n",
    "                formatted_dates.extend(dates_range)\n",
    "            else:\n",
    "                if len(date) == 5:\n",
    "                    month = date[:3]\n",
    "                    year = \"20\" + date[3:]\n",
    "                    formatted_date = datetime.strptime(month + year, \"%b%Y\").strftime(\"%Y-%m-01\")\n",
    "                elif len(date) == 6:\n",
    "                    month = date[:3]\n",
    "                    year = \"20\" + date[4:]\n",
    "                    formatted_date = datetime.strptime(month + year, \"%b%Y\").strftime(\"%Y-%m-01\")\n",
    "                else:\n",
    "                    formatted_date = parser.parse(date).strftime(\"%Y-%m-%d\")\n",
    "                formatted_dates.append(formatted_date)\n",
    "        except ValueError:\n",
    "            formatted_dates.append(None)\n",
    "    return formatted_dates\n"
   ]
  },
  {
   "attachments": {},
   "cell_type": "markdown",
   "metadata": {},
   "source": [
    "### Ranajoy's code"
   ]
  },
  {
   "cell_type": "code",
   "execution_count": null,
   "metadata": {},
   "outputs": [],
   "source": [
    "from dateutil import parser\n",
    "import datetime\n",
    "\n",
    "def convert_dates(dates):\n",
    "    formatted_dates = []\n",
    "    current_year = datetime.datetime.now().year\n",
    "    current_decade_start = current_year - current_year % 10\n",
    "    current_decade_end = current_decade_start + 9\n",
    "    for date in dates:\n",
    "        if date.startswith('-'):\n",
    "            date = date.strip('-')\n",
    "        try:\n",
    "            if \"-\" in date:\n",
    "                start_date, end_date = date.split(\"-\")\n",
    "                formatted_start_date = parser.parse(start_date).strftime(\"%Y-%m-%d\")\n",
    "                formatted_end_date = parser.parse(end_date).strftime(\"%Y-%m-%d\")\n",
    "                dates_range = [formatted_start_date, formatted_end_date]\n",
    "                formatted_dates.extend(dates_range)\n",
    "            else:\n",
    "                parsed_date = parser.parse(date, dayfirst=True, default=datetime.datetime.now().replace(day=1))\n",
    "                if parsed_date.year > current_decade_end:\n",
    "                    parsed_date = parsed_date.replace(year=current_decade_start + (parsed_date.year % 10))\n",
    "                if parsed_date.year == current_year and parsed_date.month > datetime.datetime.now().month:\n",
    "                    parsed_date = parsed_date.replace(year=parsed_date.year - 1)\n",
    "                formatted_date = parsed_date.strftime(\"%Y-%m-%d\")\n",
    "                formatted_dates.append(formatted_date)\n",
    "        except ValueError:\n",
    "            formatted_dates.append(None)\n",
    "    return formatted_dates\n",
    "\n",
    "dates = [\"Aug14\", \"Jul 18\", \"Mar13\", \"01Feb2021-02Jan2022\", \"1-2Dec\"]\n",
    "\n",
    "formatted_dates = convert_dates(dates)\n",
    "\n",
    "print(formatted_dates)"
   ]
  },
  {
   "cell_type": "code",
   "execution_count": 13,
   "metadata": {},
   "outputs": [
    {
     "name": "stdout",
     "output_type": "stream",
     "text": [
      "['2014-08-01', '2018-07-01', '2013-03-01', '2021-02-01', '2022-01-02', '2023-05-01', '2023-12-02']\n"
     ]
    }
   ],
   "source": [
    "dates = [\"Aug14\", \"Jul 18\", \"Mar13\", \"01Feb2021-02Jan2022\", \"1-2Dec\"]\n",
    "formatted_dates = convert_dates(dates)\n",
    "print(formatted_dates)\n"
   ]
  },
  {
   "cell_type": "code",
   "execution_count": 9,
   "metadata": {},
   "outputs": [
    {
     "data": {
      "text/plain": [
       "'14'"
      ]
     },
     "execution_count": 9,
     "metadata": {},
     "output_type": "execute_result"
    }
   ],
   "source": [
    "date = \"Aug14\"\n",
    "date[3:]"
   ]
  },
  {
   "cell_type": "code",
   "execution_count": 12,
   "metadata": {},
   "outputs": [
    {
     "ename": "AssertionError",
     "evalue": "",
     "output_type": "error",
     "traceback": [
      "\u001b[1;31m---------------------------------------------------------------------------\u001b[0m",
      "\u001b[1;31mAssertionError\u001b[0m                            Traceback (most recent call last)",
      "Cell \u001b[1;32mIn[12], line 1\u001b[0m\n\u001b[1;32m----> 1\u001b[0m timefhuman(\u001b[39m'\u001b[39;49m\u001b[39m23012022\u001b[39;49m\u001b[39m'\u001b[39;49m)\n",
      "File \u001b[1;32md:\\Gramener\\anaconda\\envs\\nha_env\\lib\\site-packages\\timefhuman\\main.py:58\u001b[0m, in \u001b[0;36mtimefhuman\u001b[1;34m(string, now, raw)\u001b[0m\n\u001b[0;32m     55\u001b[0m \u001b[39mif\u001b[39;00m now \u001b[39mis\u001b[39;00m \u001b[39mNone\u001b[39;00m:\n\u001b[0;32m     56\u001b[0m     now \u001b[39m=\u001b[39m datetime\u001b[39m.\u001b[39mdatetime\u001b[39m.\u001b[39mnow()\n\u001b[1;32m---> 58\u001b[0m tokens \u001b[39m=\u001b[39m timefhuman_tokens(string, now)\n\u001b[0;32m     60\u001b[0m \u001b[39mif\u001b[39;00m raw:\n\u001b[0;32m     61\u001b[0m     \u001b[39mreturn\u001b[39;00m tokens\n",
      "File \u001b[1;32md:\\Gramener\\anaconda\\envs\\nha_env\\lib\\site-packages\\timefhuman\\main.py:75\u001b[0m, in \u001b[0;36mtimefhuman_tokens\u001b[1;34m(string, now)\u001b[0m\n\u001b[0;32m     73\u001b[0m \u001b[39m\u001b[39m\u001b[39m\"\"\"Convert string into timefhuman parsed, imputed, combined tokens\"\"\"\u001b[39;00m\n\u001b[0;32m     74\u001b[0m tokens \u001b[39m=\u001b[39m tokenize(string)\n\u001b[1;32m---> 75\u001b[0m tokens \u001b[39m=\u001b[39m categorize(tokens, now)\n\u001b[0;32m     76\u001b[0m tokens \u001b[39m=\u001b[39m build_tree(tokens, now)\n\u001b[0;32m     77\u001b[0m \u001b[39mreturn\u001b[39;00m tokens\n",
      "File \u001b[1;32md:\\Gramener\\anaconda\\envs\\nha_env\\lib\\site-packages\\timefhuman\\categorize.py:36\u001b[0m, in \u001b[0;36mcategorize\u001b[1;34m(tokens, now)\u001b[0m\n\u001b[0;32m     34\u001b[0m tokens \u001b[39m=\u001b[39m maybe_substitute_using_date(tokens, now)\n\u001b[0;32m     35\u001b[0m tokens \u001b[39m=\u001b[39m maybe_substitute_using_month(tokens, now)\n\u001b[1;32m---> 36\u001b[0m tokens \u001b[39m=\u001b[39m substitute_hour_minute_in_remaining(tokens, now)\n\u001b[0;32m     37\u001b[0m \u001b[39mreturn\u001b[39;00m tokens\n",
      "File \u001b[1;32md:\\Gramener\\anaconda\\envs\\nha_env\\lib\\site-packages\\timefhuman\\categorize.py:382\u001b[0m, in \u001b[0;36msubstitute_hour_minute_in_remaining\u001b[1;34m(tokens, now)\u001b[0m\n\u001b[0;32m    380\u001b[0m         \u001b[39mcontinue\u001b[39;00m\n\u001b[0;32m    381\u001b[0m     \u001b[39mif\u001b[39;00m token\u001b[39m.\u001b[39misnumeric():\n\u001b[1;32m--> 382\u001b[0m         time_token \u001b[39m=\u001b[39m extract_hour_minute(token)\n\u001b[0;32m    383\u001b[0m         \u001b[39mreturn\u001b[39;00m tokens[:i] \u001b[39m+\u001b[39m [time_token] \u001b[39m+\u001b[39m tokens[i\u001b[39m+\u001b[39m\u001b[39m1\u001b[39m:]\n\u001b[0;32m    384\u001b[0m \u001b[39mreturn\u001b[39;00m tokens\n",
      "File \u001b[1;32md:\\Gramener\\anaconda\\envs\\nha_env\\lib\\site-packages\\timefhuman\\categorize.py:316\u001b[0m, in \u001b[0;36mextract_hour_minute\u001b[1;34m(string, time_of_day)\u001b[0m\n\u001b[0;32m    314\u001b[0m hour \u001b[39m=\u001b[39m \u001b[39mint\u001b[39m(parts[\u001b[39m0\u001b[39m])\n\u001b[0;32m    315\u001b[0m minute \u001b[39m=\u001b[39m \u001b[39mint\u001b[39m(parts[\u001b[39m1\u001b[39m]) \u001b[39mif\u001b[39;00m \u001b[39mlen\u001b[39m(parts) \u001b[39m>\u001b[39m\u001b[39m=\u001b[39m \u001b[39m2\u001b[39m \u001b[39melse\u001b[39;00m \u001b[39m0\u001b[39m\n\u001b[1;32m--> 316\u001b[0m \u001b[39mreturn\u001b[39;00m TimeToken(relative_hour\u001b[39m=\u001b[39;49mhour, minute\u001b[39m=\u001b[39;49mminute, time_of_day\u001b[39m=\u001b[39;49mtime_of_day)\n",
      "File \u001b[1;32md:\\Gramener\\anaconda\\envs\\nha_env\\lib\\site-packages\\timefhuman\\data.py:297\u001b[0m, in \u001b[0;36mTimeToken.__init__\u001b[1;34m(self, relative_hour, time_of_day, minute)\u001b[0m\n\u001b[0;32m    294\u001b[0m \u001b[39melse\u001b[39;00m:\n\u001b[0;32m    295\u001b[0m     \u001b[39mself\u001b[39m\u001b[39m.\u001b[39mhour \u001b[39m=\u001b[39m \u001b[39mself\u001b[39m\u001b[39m.\u001b[39mrelative_hour\n\u001b[1;32m--> 297\u001b[0m \u001b[39massert\u001b[39;00m \u001b[39m0\u001b[39m \u001b[39m<\u001b[39m\u001b[39m=\u001b[39m \u001b[39mself\u001b[39m\u001b[39m.\u001b[39mhour \u001b[39m<\u001b[39m \u001b[39m24\u001b[39m\n\u001b[0;32m    298\u001b[0m \u001b[39massert\u001b[39;00m \u001b[39m0\u001b[39m \u001b[39m<\u001b[39m\u001b[39m=\u001b[39m \u001b[39mself\u001b[39m\u001b[39m.\u001b[39mminute \u001b[39m<\u001b[39m \u001b[39m60\u001b[39m\n",
      "\u001b[1;31mAssertionError\u001b[0m: "
     ]
    }
   ],
   "source": [
    "timefhuman('23012022')"
   ]
  },
  {
   "cell_type": "code",
   "execution_count": 25,
   "metadata": {},
   "outputs": [],
   "source": [
    "import re\n",
    "\n",
    "def clean_number(dim_string):\n",
    "    weight_unit = re.findall(r\"[a-zA-Z ]*$\", dim_string)\n",
    "    dim_string = re.sub(r\"[a-zA-Z ]*$\", \"\", dim_string)\n",
    "    dim_string = re.sub(r\"[^\\d.]+\", \"\", dim_string)\n",
    "    dim_string = dim_string.replace(\",\", \"\")\n",
    "    dim_string = dim_string.replace(\" \", \"\")\n",
    "    return dim_string, weight_unit[0].strip()\n",
    "\n",
    "\n",
    "def convert_to_lbs(weight_string):\n",
    "    weight, weight_unit = clean_number(weight_string)\n",
    "    print(weight_unit)\n",
    "    try:\n",
    "        weight = float(weight)\n",
    "    except ValueError:\n",
    "        weight = \"\"\n",
    "    # if weight_unit.lower() == \"kg\" or weight_unit.lower() == \"kgs\":\n",
    "    if 'kg' in weight_unit.lower():\n",
    "        return str(weight * 2.20462)\n",
    "    elif \"k\" in weight_unit.lower():\n",
    "        return str(weight * 1000)\n",
    "    else:\n",
    "        return str(weight)"
   ]
  },
  {
   "cell_type": "code",
   "execution_count": 26,
   "metadata": {},
   "outputs": [],
   "source": [
    "weight_string = \"512 k per truck\""
   ]
  },
  {
   "cell_type": "code",
   "execution_count": 27,
   "metadata": {},
   "outputs": [
    {
     "name": "stdout",
     "output_type": "stream",
     "text": [
      "k per truck\n"
     ]
    },
    {
     "data": {
      "text/plain": [
       "'512000.0'"
      ]
     },
     "execution_count": 27,
     "metadata": {},
     "output_type": "execute_result"
    }
   ],
   "source": [
    "convert_to_lbs(weight_string)"
   ]
  },
  {
   "cell_type": "code",
   "execution_count": 10,
   "metadata": {},
   "outputs": [
    {
     "data": {
      "text/plain": [
       "True"
      ]
     },
     "execution_count": 10,
     "metadata": {},
     "output_type": "execute_result"
    }
   ],
   "source": [
    "1 in [1, 2, 3, 4]"
   ]
  },
  {
   "cell_type": "code",
   "execution_count": 11,
   "metadata": {},
   "outputs": [
    {
     "data": {
      "text/plain": [
       "True"
      ]
     },
     "execution_count": 11,
     "metadata": {},
     "output_type": "execute_result"
    }
   ],
   "source": [
    "1 == 1 or 1==2 or 1==3 or 1==4"
   ]
  },
  {
   "attachments": {},
   "cell_type": "markdown",
   "metadata": {},
   "source": [
    "Date Regex"
   ]
  },
  {
   "cell_type": "code",
   "execution_count": 32,
   "metadata": {},
   "outputs": [
    {
     "name": "stdout",
     "output_type": "stream",
     "text": [
      "['2021-05-31', '2023-12-01', '2023-05-18']\n"
     ]
    }
   ],
   "source": [
    "import re\n",
    "\n",
    "def convert_dates(input_text):\n",
    "    regex_pattern = r\"(?<!\\d)(?:\\d{6}|\\d{8})(?!\\d)\"\n",
    "    matches = re.findall(regex_pattern, input_text)\n",
    "    dates = []\n",
    "    for match in matches:\n",
    "        if len(match) == 6:\n",
    "            date = f\"20{match[:2]}-{match[2:4]}-{match[4:]}\"\n",
    "        else:\n",
    "            date = f\"{match[:4]}-{match[4:6]}-{match[6:]}\"\n",
    "        dates.append(date)\n",
    "    return dates\n",
    "\n",
    "# Example usage:\n",
    "input_text = \"Some text with dates: 210531, 20231201, 2023 0518, 20230518.\"\n",
    "dates = convert_dates(input_text)\n",
    "print(dates)\n"
   ]
  },
  {
   "cell_type": "code",
   "execution_count": null,
   "metadata": {},
   "outputs": [],
   "source": []
  }
 ],
 "metadata": {
  "kernelspec": {
   "display_name": "nha_env",
   "language": "python",
   "name": "python3"
  },
  "language_info": {
   "codemirror_mode": {
    "name": "ipython",
    "version": 3
   },
   "file_extension": ".py",
   "mimetype": "text/x-python",
   "name": "python",
   "nbconvert_exporter": "python",
   "pygments_lexer": "ipython3",
   "version": "3.9.12"
  },
  "orig_nbformat": 4
 },
 "nbformat": 4,
 "nbformat_minor": 2
}
